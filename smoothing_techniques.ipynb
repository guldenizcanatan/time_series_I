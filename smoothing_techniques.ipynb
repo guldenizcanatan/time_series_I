{
 "cells": [
  {
   "cell_type": "markdown",
   "metadata": {},
   "source": [
    "**Forecasting by Smoothing Techniques**\n",
    "\n",
    "\n",
    "Smoothing can be a good first step in describing various components of the series. The commonly used methods are :\n",
    "1. Single or simple Exponential Smoothing (SES)\n",
    "2. Double Exponential Smoothing (DES)\n",
    "3. Triple Exponential Smoothing (TES) a.k.a. Holt-Winters\n"
   ]
  },
  {
   "cell_type": "code",
   "execution_count": 7,
   "metadata": {},
   "outputs": [
    {
     "data": {
      "text/html": [
       "<div>\n",
       "<style scoped>\n",
       "    .dataframe tbody tr th:only-of-type {\n",
       "        vertical-align: middle;\n",
       "    }\n",
       "\n",
       "    .dataframe tbody tr th {\n",
       "        vertical-align: top;\n",
       "    }\n",
       "\n",
       "    .dataframe thead th {\n",
       "        text-align: right;\n",
       "    }\n",
       "</style>\n",
       "<table border=\"1\" class=\"dataframe\">\n",
       "  <thead>\n",
       "    <tr style=\"text-align: right;\">\n",
       "      <th></th>\n",
       "      <th>total_passengers</th>\n",
       "    </tr>\n",
       "    <tr>\n",
       "      <th>month</th>\n",
       "      <th></th>\n",
       "    </tr>\n",
       "  </thead>\n",
       "  <tbody>\n",
       "    <tr>\n",
       "      <th>1949-01-01</th>\n",
       "      <td>112</td>\n",
       "    </tr>\n",
       "    <tr>\n",
       "      <th>1949-02-01</th>\n",
       "      <td>118</td>\n",
       "    </tr>\n",
       "    <tr>\n",
       "      <th>1949-03-01</th>\n",
       "      <td>132</td>\n",
       "    </tr>\n",
       "    <tr>\n",
       "      <th>1949-04-01</th>\n",
       "      <td>129</td>\n",
       "    </tr>\n",
       "    <tr>\n",
       "      <th>1949-05-01</th>\n",
       "      <td>121</td>\n",
       "    </tr>\n",
       "  </tbody>\n",
       "</table>\n",
       "</div>"
      ],
      "text/plain": [
       "            total_passengers\n",
       "month                       \n",
       "1949-01-01               112\n",
       "1949-02-01               118\n",
       "1949-03-01               132\n",
       "1949-04-01               129\n",
       "1949-05-01               121"
      ]
     },
     "execution_count": 7,
     "metadata": {},
     "output_type": "execute_result"
    }
   ],
   "source": [
    "#importing various libraries and warnings option\n",
    "import itertools\n",
    "import warnings\n",
    "import numpy as np\n",
    "import pandas as pd\n",
    "from matplotlib import pyplot as plt\n",
    "import statsmodels.api as sm\n",
    "import statsmodels.tsa.api as smt\n",
    "from statsmodels.tsa.seasonal import seasonal_decompose\n",
    "from statsmodels.tsa.holtwinters import SimpleExpSmoothing\n",
    "from statsmodels.tsa.holtwinters import ExponentialSmoothing\n",
    "from sklearn.metrics import mean_absolute_error\n",
    "warnings.filterwarnings('ignore')\n",
    "#importing dataset\n",
    "df = pd.read_csv('airline-passengers.csv', index_col='month', parse_dates=True)\n",
    "#first 5 observation\n",
    "df.head()"
   ]
  },
  {
   "cell_type": "code",
   "execution_count": 8,
   "metadata": {},
   "outputs": [],
   "source": [
    "# let's express that index will be monthly\n",
    "df.index.freq = \"MS\"\n",
    "# then we split the dataset into as train and test sets. \n",
    "train = df[:120]\n",
    "test = df[120:]"
   ]
  },
  {
   "cell_type": "markdown",
   "metadata": {},
   "source": [
    "__1. Single Exponential Smoothing__\n",
    "\n",
    "  The simple exponential smoothing (SES) model is usu-ally based on the premise that the level of time series shouldfluctuate about a constant level or change slowly over thetime[1].\n",
    "  It requires a single parameter, called alpha (a), also called the smoothing factor or smoothing coefficient. This parameter controls the rate at which the influence of the observations at prior time steps decay exponentially. Alpha is often set to a value between 0 and 1. Large values mean that the model pays attention mainly to the most recent past observations, whereas smaller values mean more of the history is taken into account when making a prediction[2].\n",
    "  Model learning last observation, remembering last prediction."
   ]
  },
  {
   "cell_type": "code",
   "execution_count": 9,
   "metadata": {},
   "outputs": [
    {
     "name": "stdout",
     "output_type": "stream",
     "text": [
      "alpha: 0.01 mae: 190.1196\n",
      "alpha: 0.11 mae: 82.528\n",
      "alpha: 0.21 mae: 82.8979\n",
      "alpha: 0.31 mae: 89.8377\n",
      "alpha: 0.41 mae: 99.0585\n",
      "alpha: 0.51 mae: 107.5558\n",
      "alpha: 0.61 mae: 113.7514\n",
      "alpha: 0.71 mae: 117.2224\n",
      "alpha: 0.81 mae: 118.1776\n",
      "alpha: 0.91 mae: 117.2438\n"
     ]
    }
   ],
   "source": [
    "def optimize_ses(train, alphas, step=24):\n",
    "    '''\n",
    "    :param train: train set\n",
    "    :param alphas: smoothing coefficient\n",
    "    :param step: step size\n",
    "    this function  allows us to find the optimum alpha parameters\n",
    "    ses_model: forecasting number of step\n",
    "    mae: mean absolute error value according to test set\n",
    "    print all alfa and mae value \n",
    "    '''\n",
    "    for alpha in alphas:\n",
    "        ses_model = SimpleExpSmoothing(train).fit(smoothing_level=alpha) \n",
    "        y_pred = ses_model.forecast(step) \n",
    "        mae = mean_absolute_error(test, y_pred) \n",
    "        print(\"alpha:\", round(alpha, 2), \"mae:\", round(mae, 4)) \n",
    "\n",
    "#selecting combinations of alpha that increase 0.10 units between 0.01 and 1\n",
    "alphas = np.arange(0.01, 1, 0.10) \n",
    "optimize_ses(train, alphas, step=24) #calling optimize function\n",
    "\n"
   ]
  },
  {
   "cell_type": "markdown",
   "metadata": {},
   "source": [
    "Best alpha value 0.11 (smallest mae:82.528)"
   ]
  },
  {
   "cell_type": "code",
   "execution_count": 10,
   "metadata": {},
   "outputs": [],
   "source": [
    "#model fitting on train set\n",
    "ses_model = SimpleExpSmoothing(train).fit(smoothing_level=0.11) \n",
    "#forecasting ses model. We're a 24-month forecast for that test set are 24 units\n",
    "y_pred = ses_model.forecast(24) \n"
   ]
  },
  {
   "cell_type": "code",
   "execution_count": 15,
   "metadata": {},
   "outputs": [
    {
     "data": {
      "image/png": "[encoded data removed]",
      "text/plain": [
       "<Figure size 432x288 with 1 Axes>"
      ]
     },
     "metadata": {
      "needs_background": "light"
     },
     "output_type": "display_data"
    }
   ],
   "source": [
    "#smoothing models plot\n",
    "def plot_prediction(y_pred, label):\n",
    "    '''\n",
    "\n",
    "    :param y_pred: predicted values\n",
    "    :param label: plotting on train or test set\n",
    "    this function gives us the plot of the train and test sets, prediction values.\n",
    "    plot labels are TRAIN, TEST, PREDICTION\n",
    "\n",
    "    '''\n",
    "    train[\"total_passengers\"].plot(legend=True, label=\"TRAIN\")\n",
    "    test[\"total_passengers\"].plot(legend=True, label=\"TEST\") \n",
    "    y_pred.plot(legend=True, label=\"PREDICTION\") \n",
    "    plt.title(\"Train, Test and Predicted Test Using \"+label) #grafik adı sırasıyla\n",
    "    plt.show()\n",
    "\n",
    "#calling the funnction\n",
    "plot_prediction(y_pred, \"Single Exponential Smoothing\")\n",
    "\n"
   ]
  },
  {
   "cell_type": "markdown",
   "metadata": {},
   "source": [
    "In the graph, it is seen that our forecast cannot catch the seasonality and trend and does not give good results.\n"
   ]
  },
  {
   "cell_type": "markdown",
   "metadata": {},
   "source": [
    "__2. Double Exponential Smoothing__\n",
    "\n",
    "Same as SES model, additionally considering trend effect. \n",
    "In addition to the alpha parameter for controlling smoothing factor for the level, an additional smoothing factor is added to control the decay of the influence of the change in trend called beta (b)[3].\n",
    "\n"
   ]
  },
  {
   "cell_type": "code",
   "execution_count": 11,
   "metadata": {},
   "outputs": [
    {
     "name": "stdout",
     "output_type": "stream",
     "text": [
      "Optimizing parameters...\n",
      "    alpha  beta      mae\n",
      "1    0.01  0.11    54.10\n",
      "0    0.01  0.01    54.95\n",
      "10   0.11  0.01    55.03\n",
      "2    0.01  0.21    55.56\n",
      "20   0.21  0.01    57.18\n",
      "..    ...   ...      ...\n",
      "47   0.41  0.71   816.47\n",
      "48   0.41  0.81   856.88\n",
      "49   0.41  0.91   861.18\n",
      "38   0.31  0.81   921.24\n",
      "39   0.31  0.91  1013.81\n",
      "\n",
      "[100 rows x 3 columns]\n"
     ]
    }
   ],
   "source": [
    "def optimize_des(train, alphas, betas, step=24):\n",
    "    '''\n",
    "    \n",
    "    :param train:train set \n",
    "    :param alphas: smoothing coefficient alpha\n",
    "    :param betas:  smoothing coefficient beta\n",
    "    :param step: step size\n",
    "    des_model  fits in additive form over train by making exponential smoothing\n",
    "    This function first creates an empty list called result and \n",
    "    then prints it by adding the 'mae' to this list with alpha and beta combinations. \n",
    "    des_model y_pred and mae calculated in this function.The model can be fitted according to the best parameters.\n",
    "   and y estimation values are calculated\n",
    "    alpha=level beta=trend\n",
    "    '''\n",
    "    print(\"Optimizing parameters...\")\n",
    "    results = []\n",
    "    for alpha in alphas: \n",
    "        for beta in betas:\n",
    "            des_model = ExponentialSmoothing(train, trend=\"add\").fit(smoothing_level=alpha, smoothing_slope=beta)\n",
    "            y_pred = des_model.forecast(step) \n",
    "            mae = mean_absolute_error(test, y_pred) \n",
    "            results.append([round(alpha, 2), round(beta, 2), round(mae, 2)])\n",
    "    results = pd.DataFrame(results, columns=[\"alpha\", \"beta\", \"mae\"]).sort_values(\"mae\") \n",
    "    print(results) \n",
    "\n",
    "#selecting combinations of alpha and beta that increase 0.10 units between 0.01 and 1\n",
    "alphas = np.arange(0.01, 1, 0.10) \n",
    "betas = np.arange(0.01, 1, 0.10)\n",
    "#calling optimize function\n",
    "optimize_des(train, alphas, betas, step=24)"
   ]
  },
  {
   "cell_type": "markdown",
   "metadata": {},
   "source": [
    "best parameters are  alpha = 0.01 and beta = 0.11    (mae=54.10)"
   ]
  },
  {
   "cell_type": "code",
   "execution_count": 12,
   "metadata": {},
   "outputs": [],
   "source": [
    "#fitting des model with best parameters(level=alpha, slope=beta, additive model)\n",
    "des_model = ExponentialSmoothing(train, trend=\"add\").fit(smoothing_level=0.01, smoothing_slope=0.11)\n",
    "#forecasting des model for 24 obs\n",
    "y_pred = des_model.forecast(24) \n"
   ]
  },
  {
   "cell_type": "code",
   "execution_count": 13,
   "metadata": {},
   "outputs": [
    {
     "data": {
      "image/png": "[encoded data removed]",
      "text/plain": [
       "<Figure size 432x288 with 1 Axes>"
      ]
     },
     "metadata": {
      "needs_background": "light"
     },
     "output_type": "display_data"
    }
   ],
   "source": [
    "#calling plot pred function\n",
    "plot_prediction(y_pred, \"Double Exponential Smoothing\")\n"
   ]
  },
  {
   "cell_type": "markdown",
   "metadata": {},
   "source": [
    "DES model forecast trend but could not catch seasonality."
   ]
  },
  {
   "cell_type": "markdown",
   "metadata": {},
   "source": [
    "__3. Triple Exponential Smoothing a.k.a. Holt-Winters__\n",
    "  Being an adaptive method, Holt-Winter’s exponential smoothing allows the level, trend and seasonality patterns to change over time[4]."
   ]
  },
  {
   "cell_type": "code",
   "execution_count": 13,
   "metadata": {},
   "outputs": [
    {
     "name": "stdout",
     "output_type": "stream",
     "text": [
      "Optimizing parameters...\n",
      "[0.1, 0.1, 0.1, 36.83]\n",
      "[0.1, 0.1, 0.3, 34.88]\n",
      "[0.1, 0.1, 0.5, 35.91]\n",
      "[0.1, 0.1, 0.7, 38.72]\n",
      "[0.1, 0.1, 0.9, 42.55]\n",
      "[0.1, 0.3, 0.1, 53.96]\n",
      "[0.1, 0.3, 0.3, 53.0]\n",
      "[0.1, 0.3, 0.5, 56.98]\n",
      "[0.1, 0.3, 0.7, 61.38]\n",
      "[0.1, 0.3, 0.9, 67.17]\n",
      "[0.1, 0.5, 0.1, 56.77]\n",
      "[0.1, 0.5, 0.3, 51.72]\n",
      "[0.1, 0.5, 0.5, 53.39]\n",
      "[0.1, 0.5, 0.7, 60.08]\n",
      "[0.1, 0.5, 0.9, 79.29]\n",
      "[0.1, 0.7, 0.1, 34.04]\n",
      "[0.1, 0.7, 0.3, 25.93]\n",
      "[0.1, 0.7, 0.5, 27.81]\n",
      "[0.1, 0.7, 0.7, 27.91]\n",
      "[0.1, 0.7, 0.9, 38.32]\n",
      "[0.1, 0.9, 0.1, 26.87]\n",
      "[0.1, 0.9, 0.3, 25.32]\n",
      "[0.1, 0.9, 0.5, 53.88]\n",
      "[0.1, 0.9, 0.7, 38.38]\n",
      "[0.1, 0.9, 0.9, 17.78]\n",
      "[0.3, 0.1, 0.1, 54.54]\n",
      "[0.3, 0.1, 0.3, 38.34]\n",
      "[0.3, 0.1, 0.5, 31.57]\n",
      "[0.3, 0.1, 0.7, 30.99]\n",
      "[0.3, 0.1, 0.9, 29.23]\n",
      "[0.3, 0.3, 0.1, 72.71]\n",
      "[0.3, 0.3, 0.3, 22.6]\n",
      "[0.3, 0.3, 0.5, 11.99]\n",
      "[0.3, 0.3, 0.7, 17.11]\n",
      "[0.3, 0.3, 0.9, 22.32]\n",
      "[0.3, 0.5, 0.1, 132.33]\n",
      "[0.3, 0.5, 0.3, 25.74]\n",
      "[0.3, 0.5, 0.5, 17.3]\n",
      "[0.3, 0.5, 0.7, 38.38]\n",
      "[0.3, 0.5, 0.9, 56.82]\n",
      "[0.3, 0.7, 0.1, 288.32]\n",
      "[0.3, 0.7, 0.3, 134.86]\n",
      "[0.3, 0.7, 0.5, 96.77]\n",
      "[0.3, 0.7, 0.7, 95.55]\n",
      "[0.3, 0.7, 0.9, 114.59]\n",
      "[0.3, 0.9, 0.1, 452.01]\n",
      "[0.3, 0.9, 0.3, 274.71]\n",
      "[0.3, 0.9, 0.5, 185.56]\n",
      "[0.3, 0.9, 0.7, 158.96]\n",
      "[0.3, 0.9, 0.9, 186.84]\n",
      "[0.5, 0.1, 0.1, 82.19]\n",
      "[0.5, 0.1, 0.3, 55.63]\n",
      "[0.5, 0.1, 0.5, 34.87]\n",
      "[0.5, 0.1, 0.7, 26.03]\n",
      "[0.5, 0.1, 0.9, 26.71]\n",
      "[0.5, 0.3, 0.1, 177.09]\n",
      "[0.5, 0.3, 0.3, 113.11]\n",
      "[0.5, 0.3, 0.5, 60.59]\n",
      "[0.5, 0.3, 0.7, 40.88]\n",
      "[0.5, 0.3, 0.9, 39.6]\n",
      "[0.5, 0.5, 0.1, 316.38]\n",
      "[0.5, 0.5, 0.3, 248.61]\n",
      "[0.5, 0.5, 0.5, 165.44]\n",
      "[0.5, 0.5, 0.7, 102.0]\n",
      "[0.5, 0.5, 0.9, 75.54]\n",
      "[0.5, 0.7, 0.1, 412.24]\n",
      "[0.5, 0.7, 0.3, 366.81]\n",
      "[0.5, 0.7, 0.5, 258.84]\n",
      "[0.5, 0.7, 0.7, 158.39]\n",
      "[0.5, 0.7, 0.9, 128.09]\n",
      "[0.5, 0.9, 0.1, 438.76]\n",
      "[0.5, 0.9, 0.3, 441.23]\n",
      "[0.5, 0.9, 0.5, 323.59]\n",
      "[0.5, 0.9, 0.7, 229.22]\n",
      "[0.5, 0.9, 0.9, 176.77]\n",
      "[0.7, 0.1, 0.1, 104.36]\n",
      "[0.7, 0.1, 0.3, 89.35]\n",
      "[0.7, 0.1, 0.5, 62.87]\n",
      "[0.7, 0.1, 0.7, 42.14]\n",
      "[0.7, 0.1, 0.9, 31.43]\n",
      "[0.7, 0.3, 0.1, 216.29]\n",
      "[0.7, 0.3, 0.3, 205.22]\n",
      "[0.7, 0.3, 0.5, 159.22]\n",
      "[0.7, 0.3, 0.7, 112.57]\n",
      "[0.7, 0.3, 0.9, 87.28]\n",
      "[0.7, 0.5, 0.1, 302.42]\n",
      "[0.7, 0.5, 0.3, 326.36]\n",
      "[0.7, 0.5, 0.5, 277.99]\n",
      "[0.7, 0.5, 0.7, 214.6]\n",
      "[0.7, 0.5, 0.9, 184.66]\n",
      "[0.7, 0.7, 0.1, 309.0]\n",
      "[0.7, 0.7, 0.3, 377.0]\n",
      "[0.7, 0.7, 0.5, 327.37]\n",
      "[0.7, 0.7, 0.7, 282.74]\n",
      "[0.7, 0.7, 0.9, 244.25]\n",
      "[0.7, 0.9, 0.1, 249.11]\n",
      "[0.7, 0.9, 0.3, 353.99]\n",
      "[0.7, 0.9, 0.5, 314.03]\n",
      "[0.7, 0.9, 0.7, 305.42]\n",
      "[0.7, 0.9, 0.9, 265.45]\n",
      "[0.9, 0.1, 0.1, 112.57]\n",
      "[0.9, 0.1, 0.3, 112.84]\n",
      "[0.9, 0.1, 0.5, 95.59]\n",
      "[0.9, 0.1, 0.7, 73.88]\n",
      "[0.9, 0.1, 0.9, 56.35]\n",
      "[0.9, 0.3, 0.1, 207.83]\n",
      "[0.9, 0.3, 0.3, 230.8]\n",
      "[0.9, 0.3, 0.5, 209.17]\n",
      "[0.9, 0.3, 0.7, 169.62]\n",
      "[0.9, 0.3, 0.9, 125.11]\n",
      "[0.9, 0.5, 0.1, 245.78]\n",
      "[0.9, 0.5, 0.3, 301.42]\n",
      "[0.9, 0.5, 0.5, 280.73]\n",
      "[0.9, 0.5, 0.7, 240.08]\n",
      "[0.9, 0.5, 0.9, 182.98]\n",
      "[0.9, 0.7, 0.1, 218.45]\n",
      "[0.9, 0.7, 0.3, 299.86]\n",
      "[0.9, 0.7, 0.5, 298.49]\n",
      "[0.9, 0.7, 0.7, 241.08]\n",
      "[0.9, 0.7, 0.9, 233.79]\n",
      "[0.9, 0.9, 0.1, 170.16]\n",
      "[0.9, 0.9, 0.3, 261.34]\n",
      "[0.9, 0.9, 0.5, 284.25]\n",
      "[0.9, 0.9, 0.7, 216.63]\n",
      "[0.9, 0.9, 0.9, 263.58]\n",
      "    alpha  beta  gamma     mae\n",
      "32    0.3   0.3    0.5   11.99\n",
      "33    0.3   0.3    0.7   17.11\n",
      "37    0.3   0.5    0.5   17.30\n",
      "24    0.1   0.9    0.9   17.78\n",
      "34    0.3   0.3    0.9   22.32\n",
      "..    ...   ...    ...     ...\n",
      "91    0.7   0.7    0.3  377.00\n",
      "65    0.5   0.7    0.1  412.24\n",
      "70    0.5   0.9    0.1  438.76\n",
      "71    0.5   0.9    0.3  441.23\n",
      "45    0.3   0.9    0.1  452.01\n",
      "\n",
      "[125 rows x 4 columns]\n"
     ]
    }
   ],
   "source": [
    "#set of parameters that gives the optimal value from a function\n",
    "def optimize_tes(train, abg, step=24):\n",
    "    '''\n",
    "    :param train: train set\n",
    "    :param abg: alpha beta gamma parameters(level, slope, seasonal)\n",
    "    :param step: step size\n",
    "    TES model is fit over alpha beta gamma parameters.\n",
    "    TES model is forecast in the number of steps and the mae is calculated.\n",
    "    Optimum parameters are obtained according to the smallest mae value\n",
    "    seasonal periods: 12 months\n",
    "    trend and seasonal are additive model\n",
    "\n",
    "    '''\n",
    "    print(\"Optimizing parameters...\")\n",
    "    results = []\n",
    "    for comb in abg: \n",
    "        tes_model = ExponentialSmoothing(train, trend=\"add\", seasonal=\"add\", seasonal_periods=12).\\\n",
    "            fit(smoothing_level=comb[0], smoothing_slope=comb[1], smoothing_seasonal=comb[2])\n",
    "        y_pred = tes_model.forecast(step) \n",
    "        mae = mean_absolute_error(test, y_pred) \n",
    "        print([round(comb[0], 2), round(comb[1], 2), round(comb[2], 2), round(mae, 2)])\n",
    "        results.append([round(comb[0], 2), round(comb[1], 2), round(comb[2], 2), round(mae, 2)])\n",
    "    results = pd.DataFrame(results, columns=[\"alpha\", \"beta\", \"gamma\", \"mae\"]).sort_values(\"mae\")\n",
    "    print(results)\n",
    "\n",
    "    \n",
    "#if the parameters are close to 0, the last forecasted values are weighted, if they are close to 1,\n",
    "#the last real values are weighted.\n",
    "#selecting combinations of alpha, beta and gamma that increase 0.20 units between 0.10 and 1\n",
    "alphas = betas = gammas = np.arange(0.10, 1, 0.20)\n",
    "abg = list(itertools.product(alphas, betas, gammas))\n",
    "\n",
    "#forecasting ses model. We're a 24-month forecast for that test set are 24 units\n",
    "optimize_tes(train, abg, step=24)"
   ]
  },
  {
   "cell_type": "markdown",
   "metadata": {},
   "source": [
    "mae:11.99 alfa 0.3 beta 0.3 gamma 0.5 best parameters\n"
   ]
  },
  {
   "cell_type": "code",
   "execution_count": 16,
   "metadata": {},
   "outputs": [
    {
     "data": {
      "image/png": "[encoded data removed]",
      "text/plain": [
       "<Figure size 432x288 with 1 Axes>"
      ]
     },
     "metadata": {
      "needs_background": "light"
     },
     "output_type": "display_data"
    }
   ],
   "source": [
    "#fit the model by setting the optimum parameters\n",
    "tes_model = ExponentialSmoothing(train, trend=\"add\", seasonal=\"add\", seasonal_periods=12).\\\n",
    "            fit(smoothing_level=0.3, smoothing_slope=0.3, smoothing_seasonal=0.5)\n",
    "\n",
    "#obtaining forecasting values\n",
    "y_pred = tes_model.forecast(24)\n",
    "\n",
    "#plotting additive TES model\n",
    "plot_prediction(y_pred, \"Triple Exponential Smoothing ADD\")\n"
   ]
  },
  {
   "cell_type": "markdown",
   "metadata": {},
   "source": [
    "According to the plot, our forecast model seems to be very good."
   ]
  },
  {
   "cell_type": "code",
   "execution_count": null,
   "metadata": {},
   "outputs": [],
   "source": []
  }
 ],
 "metadata": {
  "kernelspec": {
   "display_name": "Python 3",
   "language": "python",
   "name": "python3"
  },
  "language_info": {
   "codemirror_mode": {
    "name": "ipython",
    "version": 3
   },
   "file_extension": ".py",
   "mimetype": "text/x-python",
   "name": "python",
   "nbconvert_exporter": "python",
   "pygments_lexer": "ipython3",
   "version": "3.8.5"
  }
 },
 "nbformat": 4,
 "nbformat_minor": 4
}
